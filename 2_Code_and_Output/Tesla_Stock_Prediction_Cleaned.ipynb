{
 "cells": [
  {
   "cell_type": "code",
   "execution_count": null,
   "id": "0f779cf1",
   "metadata": {},
   "outputs": [],
   "source": [
    "# 📦 Import all required libraries\n",
    "import pandas as pd\n",
    "import numpy as np\n",
    "import matplotlib.pyplot as plt\n",
    "from sklearn import metrics\n",
    "from sklearn.model_selection import train_test_split\n",
    "from sklearn.linear_model import LinearRegression\n",
    "import math"
   ]
  },
  {
   "cell_type": "code",
   "execution_count": null,
   "id": "2ee4ca1d",
   "metadata": {},
   "outputs": [],
   "source": [
    "# ✅ Upload and load the dataset (for Google Colab)\n",
    "from google.colab import files\n",
    "uploaded = files.upload()\n",
    "dataset = pd.read_csv('tesla_dataset.csv')"
   ]
  },
  {
   "cell_type": "code",
   "execution_count": null,
   "id": "cec3a8bb",
   "metadata": {},
   "outputs": [],
   "source": [
    "# 📊 Quick look at the data\n",
    "print(dataset.head())\n",
    "print(dataset.info())\n",
    "print(dataset.describe())\n",
    "print(\"Missing values:\\n\", dataset.isnull().sum())\n",
    "print(\"Any NaN values:\", dataset.isna().any())\n",
    "print(\"Total records:\", len(dataset))"
   ]
  },
  {
   "cell_type": "code",
   "execution_count": null,
   "id": "4aea65cc",
   "metadata": {},
   "outputs": [],
   "source": [
    "# 📈 Plot the opening price\n",
    "dataset['Open'].plot(figsize=(16,6), title='Tesla Opening Prices')\n",
    "plt.show()"
   ]
  },
  {
   "cell_type": "code",
   "execution_count": null,
   "id": "31588c58",
   "metadata": {},
   "outputs": [],
   "source": [
    "# 🎯 Feature selection\n",
    "X = dataset[['Open', 'High', 'Low', 'Volume']]\n",
    "y = dataset['Close']"
   ]
  },
  {
   "cell_type": "code",
   "execution_count": null,
   "id": "e5c77511",
   "metadata": {},
   "outputs": [],
   "source": [
    "# 🔀 Train-test split\n",
    "X_train, X_test, y_train, y_test = train_test_split(X, y, random_state=0)\n",
    "print(\"Training shape:\", X_train.shape)\n",
    "print(\"Test shape:\", X_test.shape)"
   ]
  },
  {
   "cell_type": "code",
   "execution_count": null,
   "id": "18f9d4f7",
   "metadata": {},
   "outputs": [],
   "source": [
    "# 🤖 Model training\n",
    "regressor = LinearRegression()\n",
    "regressor.fit(X_train, y_train)\n",
    "\n",
    "# 🧠 Model coefficients\n",
    "print(\"Coefficients:\", regressor.coef_)\n",
    "print(\"Intercept:\", regressor.intercept_)"
   ]
  },
  {
   "cell_type": "code",
   "execution_count": null,
   "id": "6c01dc23",
   "metadata": {},
   "outputs": [],
   "source": [
    "# 🔮 Predictions\n",
    "predicted = regressor.predict(X_test)\n",
    "\n",
    "# 📊 Show predictions\n",
    "dfr = pd.DataFrame({'Actual': y_test, 'Predicted': predicted})\n",
    "print(dfr.head(25))"
   ]
  },
  {
   "cell_type": "code",
   "execution_count": null,
   "id": "1c9d482c",
   "metadata": {},
   "outputs": [],
   "source": [
    "# 📏 Accuracy metrics\n",
    "print('Mean Absolute Error:', metrics.mean_absolute_error(y_test, predicted))\n",
    "print('Mean Squared Error:', metrics.mean_squared_error(y_test, predicted))\n",
    "print('Root Mean Squared Error:', math.sqrt(metrics.mean_squared_error(y_test, predicted)))"
   ]
  },
  {
   "cell_type": "code",
   "execution_count": null,
   "id": "b0f1844e",
   "metadata": {},
   "outputs": [],
   "source": [
    "# 📉 Bar graph for first 20 predictions\n",
    "graph = dfr.head(20)\n",
    "graph.plot(kind='bar', figsize=(12,6), title=\"Actual vs Predicted\")\n",
    "plt.show()"
   ]
  }
 ],
 "metadata": {},
 "nbformat": 4,
 "nbformat_minor": 5
}
